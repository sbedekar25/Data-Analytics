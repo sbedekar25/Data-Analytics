{
 "cells": [
  {
   "cell_type": "markdown",
   "metadata": {},
   "source": [
    "# Homework 2"
   ]
  },
  {
   "cell_type": "markdown",
   "metadata": {},
   "source": [
    "## Question 1\n",
    "\n",
    "Write a function that returns the name of a company for a given ticker symbol. \n",
    "\n",
    "You should scrape the data from Yahoo! Finance. [Here's an example page](https://finance.yahoo.com/quote/WMT/profile) using Walmart. Start by making your function modify the URL so it works for other ticker symbols. Then, look at the HTML source to find the pattern that you must search for to extract the company name.\n",
    "\n",
    "I've started the function for you here."
   ]
  },
  {
   "cell_type": "code",
   "execution_count": 32,
   "metadata": {},
   "outputs": [],
   "source": [
    "import requests, re"
   ]
  },
  {
   "cell_type": "code",
   "execution_count": 343,
   "metadata": {},
   "outputs": [],
   "source": [
    "def get_name(ticker):\n",
    "    # put the URL here\n",
    "    url = \"https://finance.yahoo.com/quote/\"\n",
    "    url = url + ticker\n",
    "    # download\n",
    "    req = requests.get(url)\n",
    "    html = req.text\n",
    "    try:\n",
    "        # use a regular expression to find the name\n",
    "        # (Your code goes here)\n",
    "        ticker_pattern = re.search(\"(<meta\\s+name=\\\"keywords\\\"\\s+content=\\\"[^\\&]+)(.*\\\"/>)\",html)\n",
    "        ticker_pattern = str(ticker_pattern)\n",
    "        regex = \"content=\\\"\"+ticker +\",([^\\&]+[A-Za-z0-9])\"\n",
    "        result = str(re.search(regex,ticker_pattern).groups(1)[0])\n",
    "        print(result)\n",
    "    except:    \n",
    "        # if the regular expression fails, do nothing\n",
    "        print(\"Failed to get the company name\")"
   ]
  },
  {
   "cell_type": "markdown",
   "metadata": {},
   "source": [
    "Test your function using these tickers: `AMZN`, `WMT`, `MMM`. Be sure it works as expected."
   ]
  },
  {
   "cell_type": "code",
   "execution_count": 344,
   "metadata": {},
   "outputs": [
    {
     "name": "stdout",
     "output_type": "stream",
     "text": [
      " AMAZON COM I\n"
     ]
    }
   ],
   "source": [
    "get_name(\"AMZN\")"
   ]
  },
  {
   "cell_type": "code",
   "execution_count": 345,
   "metadata": {},
   "outputs": [
    {
     "name": "stdout",
     "output_type": "stream",
     "text": [
      " WALMART INC\n"
     ]
    }
   ],
   "source": [
    "get_name(\"WMT\")"
   ]
  },
  {
   "cell_type": "code",
   "execution_count": 346,
   "metadata": {},
   "outputs": [
    {
     "name": "stdout",
     "output_type": "stream",
     "text": [
      " 3M COMPANY, M\n"
     ]
    }
   ],
   "source": [
    "get_name(\"MMM\")"
   ]
  },
  {
   "cell_type": "markdown",
   "metadata": {},
   "source": [
    "## Question 2\n",
    "Write a function that uses the same web page of data to find the address of the company's headquarters.\n",
    "\n",
    "For example, your function should work as follows:\n",
    "\n",
    "    In  []: get_address('TSLA')\n",
    "    Out []: '3500 Deer Creek Road, Palo Alto, CA, 94304'\n",
    "    \n",
    "Be sure to test your function with some other stock tickers.\n",
    "\n",
    "Hint: You'll probably want to capture different parts of the address (street address, city, state, zip) separately and then join them together into a string before returning a value. "
   ]
  },
  {
   "cell_type": "code",
   "execution_count": 681,
   "metadata": {},
   "outputs": [],
   "source": [
    "def get_address(ticker):\n",
    "    # put the URL here\n",
    "    url = \"https://finance.yahoo.com/quote/\"\n",
    "    url = url + ticker\n",
    "    # download\n",
    "    req = requests.get(url)\n",
    "    html = req.text\n",
    "    try:\n",
    "        street = str(re.findall('address1\":\"(.*?)\"',html)[0])\n",
    "        city = re.findall('city\":\"(.*?)\"',html)[0]\n",
    "        state = re.findall('state\":\"(.*?)\"',html)[0]\n",
    "        zip = re.findall('zip\":\"(.*?)\"',html)[0]\n",
    "        return (street+\", \"+city+\", \"+state+\", \"+zip)\n",
    "    except:\n",
    "        print(\"No Address found for the company\")\n",
    "        "
   ]
  },
  {
   "cell_type": "code",
   "execution_count": 682,
   "metadata": {},
   "outputs": [
    {
     "data": {
      "text/plain": [
       "'702 SW 8th Street, Bentonville, AR, 72716'"
      ]
     },
     "execution_count": 682,
     "metadata": {},
     "output_type": "execute_result"
    }
   ],
   "source": [
    "get_address(\"WMT\")"
   ]
  },
  {
   "cell_type": "code",
   "execution_count": 683,
   "metadata": {},
   "outputs": [
    {
     "data": {
      "text/plain": [
       "'410 Terry Avenue North, Seattle, WA, 98109'"
      ]
     },
     "execution_count": 683,
     "metadata": {},
     "output_type": "execute_result"
    }
   ],
   "source": [
    "get_address(\"AMZN\")"
   ]
  },
  {
   "cell_type": "code",
   "execution_count": 684,
   "metadata": {},
   "outputs": [
    {
     "data": {
      "text/plain": [
       "'3M Center, St. Paul, MN, 55144'"
      ]
     },
     "execution_count": 684,
     "metadata": {},
     "output_type": "execute_result"
    }
   ],
   "source": [
    "get_address(\"MMM\")"
   ]
  },
  {
   "cell_type": "code",
   "execution_count": 685,
   "metadata": {},
   "outputs": [
    {
     "data": {
      "text/plain": [
       "'3500 Deer Creek Road, Palo Alto, CA, 94304'"
      ]
     },
     "execution_count": 685,
     "metadata": {},
     "output_type": "execute_result"
    }
   ],
   "source": [
    "get_address(\"TSLA\")"
   ]
  },
  {
   "cell_type": "markdown",
   "metadata": {},
   "source": [
    "## Question 3\n",
    "\n",
    "Now I want you to write a *geolocating* function that takes a ticker symbol and returns the latitude and longitude of the firm's headquarters. To do this, we will use Mapquest's API (<b>A</b>pplication <b>P</b>rogramming <b>I</b>nterface), which is a web-based system for providing raw data rather than HTML pages.\n",
    "\n",
    "Before accessing the API you need to create an account which generates an API Key. The account is free and allows you to make a limited number of queries. To sign up, go [here](https://developer.mapquest.com/user/register) and choose Sign Up. You are assigned a key when you register. It will look something like this: \n",
    "\n",
    "<pre>zAWt8Aye6YvhIupZMzctaAfkSkEnaccN</pre>\n",
    "\n",
    "Once you have created your key, you can query the API using a URL like this:\n",
    "\n",
    "http://www.mapquestapi.com/geocoding/v1/address?key=API_KEY&location=1309+E+10th+Street%2C+Bloomington%2C+IN%2C+47401\n",
    "\n",
    "(This link won't work until you replace `API_KEY` with your personal key.)\n",
    "\n",
    "Notice there is a special formatting to deal with spaces and other punctuation. An easy way to request a web site like this is as follows:"
   ]
  },
  {
   "cell_type": "code",
   "execution_count": 643,
   "metadata": {},
   "outputs": [],
   "source": [
    "API_KEY = \"MI30TLS9nlJyehgSHY2yZK4Ko37WYH5m\"\n",
    "url = 'http://www.mapquestapi.com/geocoding/v1/address'\n",
    "params = {'key': API_KEY, 'location': '3500 Deer Creek Road, Palo Alto, CA, 94304'}\n",
    "text = requests.get(url, params=params).text"
   ]
  },
  {
   "cell_type": "code",
   "execution_count": 644,
   "metadata": {},
   "outputs": [
    {
     "data": {
      "text/plain": [
       "'{\"info\":{\"statuscode\":0,\"copyright\":{\"text\":\"\\\\u00A9 2019 MapQuest, Inc.\",\"imageUrl\":\"http://api.mqcdn.com/res/mqlogo.gif\",\"imageAltText\":\"\\\\u00A9 2019 MapQuest, Inc.\"},\"messages\":[]},\"options\":{\"maxResults\":-1,\"thumbMaps\":true,\"ignoreLatLngInput\":false},\"results\":[{\"providedLocation\":{\"location\":\"3500 Deer Creek Road, Palo Alto, CA, 94304\"},\"locations\":[{\"street\":\"3500 Deer Creek Rd\",\"adminArea6\":\"\",\"adminArea6Type\":\"Neighborhood\",\"adminArea5\":\"Palo Alto\",\"adminArea5Type\":\"City\",\"adminArea4\":\"Santa Clara\",\"adminArea4Type\":\"County\",\"adminArea3\":\"CA\",\"adminArea3Type\":\"State\",\"adminArea1\":\"US\",\"adminArea1Type\":\"Country\",\"postalCode\":\"94304-1317\",\"geocodeQualityCode\":\"P1AAA\",\"geocodeQuality\":\"POINT\",\"dragPoint\":false,\"sideOfStreet\":\"R\",\"linkId\":\"r7761292|p26337510|n9444498\",\"unknownInput\":\"\",\"type\":\"s\",\"latLng\":{\"lat\":37.394738,\"lng\":-122.149112},\"displayLatLng\":{\"lat\":37.394148,\"lng\":-122.150391},\"mapUrl\":\"http://www.mapquestapi.com/staticmap/v5/map?key=MI30TLS9nlJyehgSHY2yZK4Ko37WYH5m&type=map&size=225,160&locations=37.394738,-122.149112|marker-sm-50318A-1&scalebar=true&zoom=15&rand=-1921657440\"}]}]}'"
      ]
     },
     "execution_count": 644,
     "metadata": {},
     "output_type": "execute_result"
    }
   ],
   "source": [
    "text"
   ]
  },
  {
   "cell_type": "code",
   "execution_count": 667,
   "metadata": {},
   "outputs": [
    {
     "data": {
      "text/plain": [
       "[':37.394738',\n",
       " '-122.149112',\n",
       " ':37.394148',\n",
       " '-122.150391',\n",
       " '37.394738',\n",
       " '-122.149112']"
      ]
     },
     "execution_count": 667,
     "metadata": {},
     "output_type": "execute_result"
    }
   ],
   "source": [
    "re.findall('[^\\&=][0-9]+\\.[0-9]+',text)"
   ]
  },
  {
   "cell_type": "markdown",
   "metadata": {},
   "source": [
    "The response from the server is data from the database stored in JSON format. But you can ignore that it's JSON and just use a regular expression to find the pattern you're looking for.\n",
    "\n",
    "As an example, your function should return a tuple *exactly* like this:\n",
    "\n",
    "    In  [2]: geolocate('TSLA')\n",
    "    Out [2]: (37.394738, -122.149112, '3500 Deer Creek Road, Palo Alto, CA, 94304')\n",
    "    \n",
    "That is, it returns a tuple with the latitude, longitude, and address.\n",
    "\n",
    "The function you write for this question should start by calling the function you wrote in Q2 to get the address. You can then use this with the API to get the location"
   ]
  },
  {
   "cell_type": "code",
   "execution_count": 692,
   "metadata": {},
   "outputs": [],
   "source": [
    "def geolocate(ticker):\n",
    "    try:\n",
    "        API_KEY = \"MI30TLS9nlJyehgSHY2yZK4Ko37WYH5m\"\n",
    "        url = 'http://www.mapquestapi.com/geocoding/v1/address'\n",
    "        location = get_address(ticker)\n",
    "        params = {'key': API_KEY, 'location':location}\n",
    "        t = requests.get(url, params=params).text\n",
    "        regex = re.findall('[^\\&=:][0-9]+\\.[0-9]+',t)\n",
    "        latitude =  regex[0]\n",
    "        longitude =  regex[1]\n",
    "        geolocate_tuple =(latitude,longitude,location)\n",
    "        return geolocate_tuple\n",
    "    except:\n",
    "        print(\"Error\")"
   ]
  },
  {
   "cell_type": "code",
   "execution_count": 690,
   "metadata": {},
   "outputs": [
    {
     "data": {
      "text/plain": [
       "(':37.394738', '-122.149112', '3500 Deer Creek Road, Palo Alto, CA, 94304')"
      ]
     },
     "execution_count": 690,
     "metadata": {},
     "output_type": "execute_result"
    }
   ],
   "source": [
    "geolocate('TSLA')"
   ]
  },
  {
   "cell_type": "code",
   "execution_count": 693,
   "metadata": {},
   "outputs": [
    {
     "data": {
      "text/plain": [
       "('36.364272', '-94.216793', '702 SW 8th Street, Bentonville, AR, 72716')"
      ]
     },
     "execution_count": 693,
     "metadata": {},
     "output_type": "execute_result"
    }
   ],
   "source": [
    "geolocate('WMT')"
   ]
  },
  {
   "cell_type": "markdown",
   "metadata": {},
   "source": [
    "## Question 4\n",
    "\n",
    "Now let's say we want to calculate the distance between two corporate headquarters.\n",
    "\n",
    "Given two pairs of latitude and longitude, $(\\varphi_1, \\lambda_1)$ and $(\\varphi_2, \\lambda_2)$, we can calculate the distance between them using the [Haversine formula](https://en.wikipedia.org/wiki/Haversine_formula#The_haversine_formula):\n",
    "\n",
    "$${\\displaystyle d=2r\\arcsin \\left({\\sqrt {\\operatorname {hav} (\\varphi _{2}-\\varphi _{1})+\\cos(\\varphi _{1})\\cos(\\varphi _{2})\\operatorname {hav} (\\lambda _{2}-\\lambda _{1})}}\\right)}$$\n",
    "\n",
    "where $d$ is the distance, $\\operatorname{hav}$ is the Haversine function, $$\\operatorname {hav} (\\theta )=\\sin ^{2}\\left({\\frac {\\theta }{2}}\\right),$$ and $r$ is the radius of the earth ([3958.7613 miles](https://en.wikipedia.org/wiki/Earth_radius#Mean_radius)). Note that this formula requires that the latitude and longitude are given in *radians*, not the degrees that Mapquest gives.\n",
    "\n",
    "Use the template below to write a function that takes two ticker symbols and returns the distance between the headquarters of the two firms. Note that the python function for $\\arcsin$ is `asin`."
   ]
  },
  {
   "cell_type": "code",
   "execution_count": 705,
   "metadata": {},
   "outputs": [],
   "source": [
    "def haversine(theta):\n",
    "    '''Haversine function'''\n",
    "    from math import sin\n",
    "    return sin(theta/2)**2\n",
    "\n",
    "def firm_dist(ticker1, ticker2):\n",
    "    '''Returns the distance in miles between two firm HQs'''  \n",
    "    from math import radians, cos, sin, asin, sqrt\n",
    "    Earth_radius = 3958.7613\n",
    "    # get lat/lng of two tickers\n",
    "    ticker1_lat,ticker1_long,location1 = geolocate(ticker1)\n",
    "    ticker2_lat,ticker2_long,location2 = geolocate(ticker2)\n",
    "    # change degrees to radians\n",
    "    ticker1_lat_rad = radians(float(ticker1_lat))\n",
    "    ticker2_lat_rad = radians(float(ticker2_lat))\n",
    "    ticker1_long_rad = radians(float(ticker1_long))\n",
    "    ticker2_long_rad = radians(float(ticker2_long))    \n",
    "    # calculate distance\n",
    "    inner_formula = haversine(ticker1_lat_rad - ticker2_lat_rad) + cos(ticker1_lat_rad) * cos(ticker2_lat_rad) * haversine(ticker1_long_rad - ticker2_long_rad)\n",
    "    sqrt_inner_formula =sqrt(inner_formula)\n",
    "    d = 2 * asin(sqrt_inner_formula)  \n",
    "    print(d)\n",
    "    return d"
   ]
  },
  {
   "cell_type": "code",
   "execution_count": 706,
   "metadata": {},
   "outputs": [
    {
     "name": "stdout",
     "output_type": "stream",
     "text": [
      "0.0013711613644450992\n"
     ]
    }
   ],
   "source": [
    "# test your function\n",
    "d = firm_dist('GOOG', 'FB')\n"
   ]
  },
  {
   "cell_type": "code",
   "execution_count": 707,
   "metadata": {},
   "outputs": [
    {
     "data": {
      "text/plain": [
       "0.0013711613644450992"
      ]
     },
     "execution_count": 707,
     "metadata": {},
     "output_type": "execute_result"
    }
   ],
   "source": [
    "d"
   ]
  },
  {
   "cell_type": "code",
   "execution_count": 708,
   "metadata": {},
   "outputs": [
    {
     "name": "stdout",
     "output_type": "stream",
     "text": [
      "Google and Facebook are 0.0 miles apart\n"
     ]
    }
   ],
   "source": [
    "print(f'Google and Facebook are {d:.1f} miles apart')"
   ]
  }
 ],
 "metadata": {
  "kernelspec": {
   "display_name": "Python 3",
   "language": "python",
   "name": "python3"
  },
  "language_info": {
   "codemirror_mode": {
    "name": "ipython",
    "version": 3
   },
   "file_extension": ".py",
   "mimetype": "text/x-python",
   "name": "python",
   "nbconvert_exporter": "python",
   "pygments_lexer": "ipython3",
   "version": "3.7.0"
  }
 },
 "nbformat": 4,
 "nbformat_minor": 2
}
