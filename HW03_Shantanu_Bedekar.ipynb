{
 "cells": [
  {
   "cell_type": "markdown",
   "metadata": {},
   "source": [
    "# Homework 3"
   ]
  },
  {
   "cell_type": "markdown",
   "metadata": {},
   "source": [
    "## Question 1\n",
    "\n",
    "Fidelity Investments offers a number of \"sector\" mutual funds, as shown on [this page](https://fundresearch.fidelity.com/mutual-funds/category-performance-annual-total-returns/SECTOR).\n",
    "\n",
    "Write code to download this page and extract the following variables:\n",
    "* Fund name\n",
    "* Fund ticker symbol\n",
    "* Fund inception date\n",
    "* Investment category\n",
    "\n",
    "Store the records in a list of tuples containing the fund name, ticker, and the year of fund inception. For example, your list should have records like this:\n",
    "\n",
    "`[('Consumer Cyclical', 'Consumer Discretionary', 'FSCPX', 1990),\n",
    " ('Consumer Cyclical', 'Leisure', 'FDLSX', 1984),\n",
    " ('Consumer Cyclical', 'Retailing', 'FSRPX', 1985), ...`\n",
    " \n",
    "Notice that extraneous words like \"Fidelty Select\" and \"Portfolio\", which are common to all the funds, have been removed from fund names. Note also that the inception year is an integer."
   ]
  },
  {
   "cell_type": "code",
   "execution_count": 1,
   "metadata": {},
   "outputs": [],
   "source": [
    "import requests, re"
   ]
  },
  {
   "cell_type": "code",
   "execution_count": 2,
   "metadata": {},
   "outputs": [],
   "source": [
    "url = f'https://fundresearch.fidelity.com/mutual-funds/category-performance-annual-total-returns/SECTOR'"
   ]
  },
  {
   "cell_type": "code",
   "execution_count": 3,
   "metadata": {},
   "outputs": [],
   "source": [
    "req = requests.get(url)\n",
    "html = req.text"
   ]
  },
  {
   "cell_type": "code",
   "execution_count": 4,
   "metadata": {},
   "outputs": [],
   "source": [
    "sector_mutual_funds = re.findall('<td>+[^\\&]+</td>', html)"
   ]
  },
  {
   "cell_type": "code",
   "execution_count": 5,
   "metadata": {},
   "outputs": [],
   "source": [
    "list_of_tuples = []\n",
    "for i in sector_mutual_funds:\n",
    "    Fund_ticker_symbol = re.findall('(\\()([A-Z]+)(\\))', i)\n",
    "    Investment_category = re.findall('(<td>)([A-Za-z\\s]+)(</td>)',i)\n",
    "    Fund_inception_date = re.findall('([0-9][0-9][0-9][0-9])(</td>)',i)[0][0]\n",
    "    try:\n",
    "        Fund_Name = re.findall('(Fidelity Select)([A-Za-z\\s]+)',i)\n",
    "        Fund_Name = Fund_Name[0][1].replace('Portfolio','').strip()\n",
    "    except:\n",
    "        pass\n",
    "    tup = (Investment_category[0][1],Fund_Name,Fund_ticker_symbol[0][1],(int)(Fund_inception_date))\n",
    "    list_of_tuples.append(tup)"
   ]
  },
  {
   "cell_type": "markdown",
   "metadata": {},
   "source": [
    "How many funds are there? Your answer should come from a single line of code."
   ]
  },
  {
   "cell_type": "code",
   "execution_count": 6,
   "metadata": {},
   "outputs": [
    {
     "data": {
      "text/plain": [
       "[('Consumer Cyclical', 'Consumer Discretionary', 'FSCPX', 1990),\n",
       " ('Consumer Cyclical', 'Leisure', 'FDLSX', 1984),\n",
       " ('Consumer Cyclical', 'Retailing', 'FSRPX', 1985),\n",
       " ('Consumer Defensive', 'Consumer Staples', 'FDFAX', 1985),\n",
       " ('Equity Energy', 'Energy', 'FSENX', 1981),\n",
       " ('Equity Energy', 'Natural Gas', 'FSNGX', 1993),\n",
       " ('Equity Energy', 'Energy Service', 'FSESX', 1985),\n",
       " ('Industrials', 'Industrials', 'FCYIX', 1997),\n",
       " ('Industrials', 'Transportation', 'FSRFX', 1986),\n",
       " ('Industrials', 'Air Transportation', 'FSAIX', 1985),\n",
       " ('Industrials', 'Defense and Aerospace', 'FSDAX', 1984),\n",
       " ('Consumer Cyclical', 'Construction and Housing', 'FSHOX', 1986),\n",
       " ('Consumer Cyclical', 'Automotive', 'FSAVX', 1986),\n",
       " ('Industrials', 'Environment and Alternative Energy', 'FSLEX', 1989),\n",
       " ('Natural Resources', 'Chemicals', 'FSCHX', 1985),\n",
       " ('Technology', 'IT Services', 'FBSOX', 1998),\n",
       " ('Equity Energy', 'Natural Resources', 'FNARX', 1997),\n",
       " ('Communications', 'Wireless', 'FWRLX', 2000),\n",
       " ('Communications', 'Telecommunications', 'FSTCX', 1985),\n",
       " ('Consumer Cyclical', 'Communication Services', 'FBMPX', 1986),\n",
       " ('Technology', 'Communications Equipment', 'FSDCX', 1990),\n",
       " ('Financial', 'Insurance', 'FSPCX', 1985),\n",
       " ('Financial', 'Financial Services', 'FIDSX', 1981),\n",
       " ('Financial', 'Banking', 'FSRBX', 1986),\n",
       " ('Financial', 'Consumer Finance', 'FSVLX', 1985),\n",
       " ('Financial', 'Brokerage and Investment Management', 'FSLBX', 1985),\n",
       " ('Health', 'Health Care', 'FSPHX', 1981),\n",
       " ('Health', 'Pharmaceuticals', 'FPHAX', 2001),\n",
       " ('Health', 'Medical Technology and Devices', 'FSMEX', 1998),\n",
       " ('Health', 'Health Care Services', 'FSHCX', 1986),\n",
       " ('Health', 'Biotechnology', 'FBIOX', 1985),\n",
       " ('Natural Resources', 'Materials', 'FSDPX', 1986),\n",
       " ('Equity Precious Metals', 'Gold', 'FSAGX', 1985),\n",
       " ('Technology', 'Technology', 'FSPTX', 1981),\n",
       " ('Technology', 'Software and IT Services', 'FSCSX', 1985),\n",
       " ('Technology', 'Semiconductors', 'FSELX', 1985),\n",
       " ('Technology', 'Computers', 'FDCPX', 1985),\n",
       " ('Utilities', [], 'FIUIX', 1987),\n",
       " ('Utilities', 'Utilities', 'FSUTX', 1981)]"
      ]
     },
     "execution_count": 6,
     "metadata": {},
     "output_type": "execute_result"
    }
   ],
   "source": [
    "list_of_tuples"
   ]
  },
  {
   "cell_type": "markdown",
   "metadata": {},
   "source": [
    "## Question 2\n",
    "\n",
    "Now process the records in your dictionary to create a new dictionary with *sector* as the key, and a list of fund tickers as the values.\n",
    "\n",
    "Your result should look like this:\n",
    "\n",
    "`{'Consumer Cyclical': ['FSCPX', 'FDLSX', 'FSRPX', 'FSHOX', 'FSAVX', 'FBMPX'],\n",
    " 'Consumer Defensive': ['FDFAX'], ...`"
   ]
  },
  {
   "cell_type": "code",
   "execution_count": 9,
   "metadata": {},
   "outputs": [],
   "source": [
    "from collections import defaultdict\n",
    "Investment_category_dict = defaultdict(list)"
   ]
  },
  {
   "cell_type": "code",
   "execution_count": 10,
   "metadata": {},
   "outputs": [],
   "source": [
    "for i in list_of_tuples:\n",
    "    Investment_category_dict[i[0]].append(i[2])    "
   ]
  },
  {
   "cell_type": "code",
   "execution_count": 11,
   "metadata": {},
   "outputs": [
    {
     "name": "stdout",
     "output_type": "stream",
     "text": [
      "Consumer Cyclical ['FSCPX', 'FDLSX', 'FSRPX', 'FSHOX', 'FSAVX', 'FBMPX']\n",
      "Consumer Defensive ['FDFAX']\n",
      "Equity Energy ['FSENX', 'FSNGX', 'FSESX', 'FNARX']\n",
      "Industrials ['FCYIX', 'FSRFX', 'FSAIX', 'FSDAX', 'FSLEX']\n",
      "Natural Resources ['FSCHX', 'FSDPX']\n",
      "Technology ['FBSOX', 'FSDCX', 'FSPTX', 'FSCSX', 'FSELX', 'FDCPX']\n",
      "Communications ['FWRLX', 'FSTCX']\n",
      "Financial ['FSPCX', 'FIDSX', 'FSRBX', 'FSVLX', 'FSLBX']\n",
      "Health ['FSPHX', 'FPHAX', 'FSMEX', 'FSHCX', 'FBIOX']\n",
      "Equity Precious Metals ['FSAGX']\n",
      "Utilities ['FIUIX', 'FSUTX']\n"
     ]
    }
   ],
   "source": [
    "for key in Investment_category_dict:\n",
    "    print(key,Investment_category_dict[key])"
   ]
  },
  {
   "cell_type": "markdown",
   "metadata": {},
   "source": [
    "How many sectors are there? Again, answer with just one line of code."
   ]
  },
  {
   "cell_type": "code",
   "execution_count": 12,
   "metadata": {},
   "outputs": [
    {
     "data": {
      "text/plain": [
       "11"
      ]
     },
     "execution_count": 12,
     "metadata": {},
     "output_type": "execute_result"
    }
   ],
   "source": [
    "len(Investment_category_dict)"
   ]
  },
  {
   "cell_type": "markdown",
   "metadata": {},
   "source": [
    "## Question 3\n",
    "\n",
    "Print a table of all years that have at least one fund inception, sorted from oldest to newest, and a count of how many funds were started that year.\n",
    "\n",
    "Hint: It will probabably help to start by constructing a new dictionary."
   ]
  },
  {
   "cell_type": "code",
   "execution_count": 13,
   "metadata": {},
   "outputs": [],
   "source": [
    "funds_by_year = defaultdict(list)"
   ]
  },
  {
   "cell_type": "code",
   "execution_count": 14,
   "metadata": {},
   "outputs": [],
   "source": [
    "for i in list_of_tuples:\n",
    "    funds_by_year[i[3]].append(i[1])    "
   ]
  },
  {
   "cell_type": "code",
   "execution_count": 15,
   "metadata": {},
   "outputs": [],
   "source": [
    "year_list = sorted(list(funds_by_year.keys()))"
   ]
  },
  {
   "cell_type": "code",
   "execution_count": 16,
   "metadata": {},
   "outputs": [],
   "source": [
    "table_dict = defaultdict(int)\n",
    "for key in year_list:\n",
    "    table_dict[key] =(len(funds_by_year[key]))"
   ]
  },
  {
   "cell_type": "code",
   "execution_count": 17,
   "metadata": {},
   "outputs": [],
   "source": [
    "import pandas as pd\n",
    "Year = list(table_dict.keys())\n",
    "Fund_count =list(table_dict.values())\n",
    "table = pd.DataFrame({'Year':Year,'Fund count':Fund_count})"
   ]
  },
  {
   "cell_type": "code",
   "execution_count": 18,
   "metadata": {},
   "outputs": [
    {
     "data": {
      "text/html": [
       "<div>\n",
       "<style scoped>\n",
       "    .dataframe tbody tr th:only-of-type {\n",
       "        vertical-align: middle;\n",
       "    }\n",
       "\n",
       "    .dataframe tbody tr th {\n",
       "        vertical-align: top;\n",
       "    }\n",
       "\n",
       "    .dataframe thead th {\n",
       "        text-align: right;\n",
       "    }\n",
       "</style>\n",
       "<table border=\"1\" class=\"dataframe\">\n",
       "  <thead>\n",
       "    <tr style=\"text-align: right;\">\n",
       "      <th></th>\n",
       "      <th>Year</th>\n",
       "      <th>Fund count</th>\n",
       "    </tr>\n",
       "  </thead>\n",
       "  <tbody>\n",
       "    <tr>\n",
       "      <th>0</th>\n",
       "      <td>1981</td>\n",
       "      <td>5</td>\n",
       "    </tr>\n",
       "    <tr>\n",
       "      <th>1</th>\n",
       "      <td>1984</td>\n",
       "      <td>2</td>\n",
       "    </tr>\n",
       "    <tr>\n",
       "      <th>2</th>\n",
       "      <td>1985</td>\n",
       "      <td>14</td>\n",
       "    </tr>\n",
       "    <tr>\n",
       "      <th>3</th>\n",
       "      <td>1986</td>\n",
       "      <td>7</td>\n",
       "    </tr>\n",
       "    <tr>\n",
       "      <th>4</th>\n",
       "      <td>1987</td>\n",
       "      <td>1</td>\n",
       "    </tr>\n",
       "    <tr>\n",
       "      <th>5</th>\n",
       "      <td>1989</td>\n",
       "      <td>1</td>\n",
       "    </tr>\n",
       "    <tr>\n",
       "      <th>6</th>\n",
       "      <td>1990</td>\n",
       "      <td>2</td>\n",
       "    </tr>\n",
       "    <tr>\n",
       "      <th>7</th>\n",
       "      <td>1993</td>\n",
       "      <td>1</td>\n",
       "    </tr>\n",
       "    <tr>\n",
       "      <th>8</th>\n",
       "      <td>1997</td>\n",
       "      <td>2</td>\n",
       "    </tr>\n",
       "    <tr>\n",
       "      <th>9</th>\n",
       "      <td>1998</td>\n",
       "      <td>2</td>\n",
       "    </tr>\n",
       "    <tr>\n",
       "      <th>10</th>\n",
       "      <td>2000</td>\n",
       "      <td>1</td>\n",
       "    </tr>\n",
       "    <tr>\n",
       "      <th>11</th>\n",
       "      <td>2001</td>\n",
       "      <td>1</td>\n",
       "    </tr>\n",
       "  </tbody>\n",
       "</table>\n",
       "</div>"
      ],
      "text/plain": [
       "    Year  Fund count\n",
       "0   1981           5\n",
       "1   1984           2\n",
       "2   1985          14\n",
       "3   1986           7\n",
       "4   1987           1\n",
       "5   1989           1\n",
       "6   1990           2\n",
       "7   1993           1\n",
       "8   1997           2\n",
       "9   1998           2\n",
       "10  2000           1\n",
       "11  2001           1"
      ]
     },
     "execution_count": 18,
     "metadata": {},
     "output_type": "execute_result"
    }
   ],
   "source": [
    "table"
   ]
  },
  {
   "cell_type": "markdown",
   "metadata": {},
   "source": [
    "## Question 4\n",
    "\n",
    "Morningstar provides detailed information about mutual funds, some available for free. \n",
    "\n",
    "[This page](https://portfolios.morningstar.com/fund/holdings?t=FBSOX&region=usa&culture=en-US) displays holdings information for the top 25 stocks held by one of the funds.\n",
    "\n",
    "If you look at the page source, though, you won't find the data there -- it's actually coming from another web server. The following URL returns a string of JSON-formatted text that contains the information that is being used to create the other page:\n",
    "\n",
    "https://portfolios.morningstar.com/portfo/fund/ajax/holdings_tab?&t=FBSOX\n",
    "\n",
    "To get started, write code to download this JSON and convert it to a dictionary called `jsn` just for this one ticker to get started."
   ]
  },
  {
   "cell_type": "code",
   "execution_count": 9,
   "metadata": {},
   "outputs": [],
   "source": [
    "jsn_url = 'https://portfolios.morningstar.com/portfo/fund/ajax/holdings_tab?&t=FBSOX'"
   ]
  },
  {
   "cell_type": "code",
   "execution_count": 10,
   "metadata": {},
   "outputs": [],
   "source": [
    "req = requests.get(jsn_url)\n",
    "json_string = req.text"
   ]
  },
  {
   "cell_type": "code",
   "execution_count": 11,
   "metadata": {},
   "outputs": [],
   "source": [
    "import json\n",
    "jsn = json.loads(json_string)"
   ]
  },
  {
   "cell_type": "code",
   "execution_count": 12,
   "metadata": {},
   "outputs": [
    {
     "data": {
      "text/plain": [
       "dict"
      ]
     },
     "execution_count": 12,
     "metadata": {},
     "output_type": "execute_result"
    }
   ],
   "source": [
    "type(jsn)"
   ]
  },
  {
   "cell_type": "markdown",
   "metadata": {},
   "source": [
    "Now, `jsn` has a key `htmlStr` that contains the HTML with the information we want. Look at this HTML and the web page in your browser to come up with a regular expression you can use to extract the *ticker* and *company name* for all of the 25 holdings listed.\n",
    "\n",
    "Now, write code that extracts this information for each of the funds. When you're done you should have a dictionary where the key is the fund ticker and the values are tuples of company ticker and name. For example, your dictionary should have a list that starts like this for the key `FBSOX`:\n",
    "\n",
    "`[('ACN', 'Accenture PLC A'),\n",
    " ('EPAM', 'EPAM Systems Inc'),\n",
    " ('IBM', 'International Business Machines Corp'),\n",
    " ('ADBE', 'Adobe Inc'), ...`\n",
    " \n",
    "Note: Be careful to check that you end up with 25 unique holdings for a fund. If you end up with duplicate matches, recall that a `set` can only contain unique values, and you can convert a `list` to a set by calling `set(my_list)`."
   ]
  },
  {
   "cell_type": "code",
   "execution_count": 13,
   "metadata": {},
   "outputs": [],
   "source": [
    "html_text = jsn['htmlStr']"
   ]
  },
  {
   "cell_type": "code",
   "execution_count": 14,
   "metadata": {},
   "outputs": [],
   "source": [
    "html_text1 = html_text.replace('\\n','')"
   ]
  },
  {
   "cell_type": "code",
   "execution_count": 172,
   "metadata": {},
   "outputs": [],
   "source": [
    "# # ticker_list = re.findall('XNYS:IBM\\n',html_text)\n",
    "# ticker_list = re.findall('(:)([A-Z]+)',html_text)\n",
    "# # \\n\">International Business Machines Corp</a></th>\n",
    "# company_names = re.findall('(\\\\n\">)([^\\&]+)(</a></th>)',html_text)"
   ]
  },
  {
   "cell_type": "code",
   "execution_count": 15,
   "metadata": {},
   "outputs": [],
   "source": [
    "combined_list = re.findall('(<th class=\"row_lbl\" scope=\"row\" align=\"left\"><a target=\"_blank\")(.*?)(</th>)',html_text1)"
   ]
  },
  {
   "cell_type": "code",
   "execution_count": 16,
   "metadata": {},
   "outputs": [],
   "source": [
    "company_dict = {}\n",
    "for i in combined_list:\n",
    "    ticker = re.findall('(:)([A-Z]+)',i[1])\n",
    "    company = re.findall('(>)([^\\&]+)(</a>)',i[1])\n",
    "    company_dict[ticker[0][1]] = company[0][1]"
   ]
  },
  {
   "cell_type": "code",
   "execution_count": 17,
   "metadata": {},
   "outputs": [],
   "source": [
    "company_list =[]\n",
    "for key in company_dict:\n",
    "    tup = (key,company_dict[key])\n",
    "    company_list.append(tup)"
   ]
  },
  {
   "cell_type": "code",
   "execution_count": 18,
   "metadata": {},
   "outputs": [
    {
     "data": {
      "text/plain": [
       "[('V', 'Visa Inc Class A'),\n",
       " ('MA', 'Mastercard Inc A'),\n",
       " ('PYPL', 'PayPal Holdings Inc'),\n",
       " ('CTSH', 'Cognizant Technology Solutions Corp A'),\n",
       " ('ACN', 'Accenture PLC A'),\n",
       " ('IBM', 'International Business Machines Corp'),\n",
       " ('WP', 'Worldpay Inc Class A'),\n",
       " ('FDC', 'First Data Corp Class A'),\n",
       " ('EPAM', 'EPAM Systems Inc'),\n",
       " ('GDDY', 'GoDaddy Inc A'),\n",
       " ('FLT', 'Fleetcor Technologies Inc'),\n",
       " ('ADP', 'Automatic Data Processing Inc'),\n",
       " ('VRTU', 'Virtusa Corp'),\n",
       " ('INTU', 'Intuit Inc'),\n",
       " ('G', 'Genpact Ltd'),\n",
       " ('ADS', 'Alliance Data Systems Corp'),\n",
       " ('GPN', 'Global Payments Inc'),\n",
       " ('ADBE', 'Adobe Inc'),\n",
       " ('BAH', 'Booz Allen Hamilton Holding Corp'),\n",
       " ('WNS', 'WNS (Holdings) Ltd ADR'),\n",
       " ('LDOS', 'Leidos Holdings Inc'),\n",
       " ('WIX', 'Wix.com Ltd'),\n",
       " ('BKI', 'Black Knight Inc A'),\n",
       " ('DXC', 'DXC Technology Co'),\n",
       " ('FISV', 'Fiserv Inc')]"
      ]
     },
     "execution_count": 18,
     "metadata": {},
     "output_type": "execute_result"
    }
   ],
   "source": [
    "company_list"
   ]
  },
  {
   "cell_type": "code",
   "execution_count": 19,
   "metadata": {},
   "outputs": [],
   "source": [
    "jsn_url_base = 'https://portfolios.morningstar.com/portfo/fund/ajax/holdings_tab?&t='"
   ]
  },
  {
   "cell_type": "code",
   "execution_count": 20,
   "metadata": {},
   "outputs": [
    {
     "name": "stdout",
     "output_type": "stream",
     "text": [
      "Top 25 Companies for: FSCPX\n",
      "-----------------------------------------------------------------------------------------\n",
      "[('AMZN', 'Amazon.com Inc'), ('HD', 'The Home Depot Inc'), ('MCD', \"McDonald's Corp\"), ('LOW', \"Lowe's Companies Inc\"), ('NKE', 'Nike Inc B'), ('BKNG', 'Booking Holdings Inc'), ('TJX', 'TJX Companies Inc'), ('DLTR', 'Dollar Tree Inc'), ('RCL', 'Royal Caribbean Cruises Ltd'), ('MAR', 'Marriott International Inc Class A'), ('BURL', 'Burlington Stores Inc'), ('ROST', 'Ross Stores Inc'), ('SBUX', 'Starbucks Corp'), ('DG', 'Dollar General Corp'), ('ORLY', \"O'Reilly Automotive Inc\"), ('HLT', 'Hilton Worldwide Holdings Inc'), ('TSLA', 'Tesla Inc'), ('PVH', 'PVH Corp'), ('LVS', 'Las Vegas Sands Corp'), ('CCL', 'Carnival Corp'), ('AZO', 'AutoZone Inc'), ('DHI', 'D.R. Horton Inc'), ('DPZ', \"Domino's Pizza Inc\"), ('LEN', 'Lennar Corp'), ('ULTA', 'Ulta Beauty Inc')]\n"
     ]
    },
    {
     "ename": "IndexError",
     "evalue": "list index out of range",
     "output_type": "error",
     "traceback": [
      "\u001b[1;31m---------------------------------------------------------------------------\u001b[0m",
      "\u001b[1;31mIndexError\u001b[0m                                Traceback (most recent call last)",
      "\u001b[1;32m<ipython-input-20-92cdc29db51b>\u001b[0m in \u001b[0;36m<module>\u001b[1;34m()\u001b[0m\n\u001b[0;32m     11\u001b[0m         \u001b[0mticker\u001b[0m \u001b[1;33m=\u001b[0m \u001b[0mre\u001b[0m\u001b[1;33m.\u001b[0m\u001b[0mfindall\u001b[0m\u001b[1;33m(\u001b[0m\u001b[1;34m'(:)([A-Z]+)'\u001b[0m\u001b[1;33m,\u001b[0m\u001b[0mi\u001b[0m\u001b[1;33m[\u001b[0m\u001b[1;36m1\u001b[0m\u001b[1;33m]\u001b[0m\u001b[1;33m)\u001b[0m\u001b[1;33m\u001b[0m\u001b[0m\n\u001b[0;32m     12\u001b[0m         \u001b[0mcompany\u001b[0m \u001b[1;33m=\u001b[0m \u001b[0mre\u001b[0m\u001b[1;33m.\u001b[0m\u001b[0mfindall\u001b[0m\u001b[1;33m(\u001b[0m\u001b[1;34m'(>)([^\\&]+)(</a>)'\u001b[0m\u001b[1;33m,\u001b[0m\u001b[0mi\u001b[0m\u001b[1;33m[\u001b[0m\u001b[1;36m1\u001b[0m\u001b[1;33m]\u001b[0m\u001b[1;33m)\u001b[0m\u001b[1;33m\u001b[0m\u001b[0m\n\u001b[1;32m---> 13\u001b[1;33m         \u001b[0mcompany_dict\u001b[0m\u001b[1;33m[\u001b[0m\u001b[0mticker\u001b[0m\u001b[1;33m[\u001b[0m\u001b[1;36m0\u001b[0m\u001b[1;33m]\u001b[0m\u001b[1;33m[\u001b[0m\u001b[1;36m1\u001b[0m\u001b[1;33m]\u001b[0m\u001b[1;33m]\u001b[0m \u001b[1;33m=\u001b[0m \u001b[0mcompany\u001b[0m\u001b[1;33m[\u001b[0m\u001b[1;36m0\u001b[0m\u001b[1;33m]\u001b[0m\u001b[1;33m[\u001b[0m\u001b[1;36m1\u001b[0m\u001b[1;33m]\u001b[0m\u001b[1;33m\u001b[0m\u001b[0m\n\u001b[0m\u001b[0;32m     14\u001b[0m         \u001b[0mcompany_list\u001b[0m \u001b[1;33m=\u001b[0m\u001b[1;33m[\u001b[0m\u001b[1;33m]\u001b[0m\u001b[1;33m\u001b[0m\u001b[0m\n\u001b[0;32m     15\u001b[0m     \u001b[1;32mfor\u001b[0m \u001b[0mkey\u001b[0m \u001b[1;32min\u001b[0m \u001b[0mcompany_dict\u001b[0m\u001b[1;33m:\u001b[0m\u001b[1;33m\u001b[0m\u001b[0m\n",
      "\u001b[1;31mIndexError\u001b[0m: list index out of range"
     ]
    }
   ],
   "source": [
    "for k in list_of_tuples:\n",
    "    temp_jsn_url_base = jsn_url_base +k[2]\n",
    "    req = requests.get(temp_jsn_url_base)\n",
    "    json_string = req.text\n",
    "    jsn = json.loads(json_string)\n",
    "    html_text = jsn['htmlStr']\n",
    "    html_text1 = html_text.replace('\\n','')\n",
    "    combined_list = re.findall('(<th class=\"row_lbl\" scope=\"row\" align=\"left\"><a target=\"_blank\")(.*?)(</th>)',html_text1)\n",
    "    company_dict = {}\n",
    "    for i in combined_list:\n",
    "        ticker = re.findall('(:)([A-Z]+)',i[1])\n",
    "        company = re.findall('(>)([^\\&]+)(</a>)',i[1])\n",
    "        company_dict[ticker[0][1]] = company[0][1]\n",
    "        company_list =[]\n",
    "    for key in company_dict:\n",
    "        tup = (key,company_dict[key])\n",
    "        company_list.append(tup)\n",
    "    print(\"Top 25 Companies for:\",k[2])\n",
    "    print(\"-----------------------------------------------------------------------------------------\")\n",
    "    print(company_list)"
   ]
  }
 ],
 "metadata": {
  "kernelspec": {
   "display_name": "Python 3",
   "language": "python",
   "name": "python3"
  },
  "language_info": {
   "codemirror_mode": {
    "name": "ipython",
    "version": 3
   },
   "file_extension": ".py",
   "mimetype": "text/x-python",
   "name": "python",
   "nbconvert_exporter": "python",
   "pygments_lexer": "ipython3",
   "version": "3.7.0"
  }
 },
 "nbformat": 4,
 "nbformat_minor": 2
}
