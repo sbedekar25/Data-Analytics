{
 "cells": [
  {
   "cell_type": "markdown",
   "metadata": {},
   "source": [
    "# Homework 1"
   ]
  },
  {
   "cell_type": "markdown",
   "metadata": {},
   "source": [
    "## Question 1\n",
    "\n",
    "Find <u>three</u> different ways to add up all the numbers from 1 to 1000, inclusive.\n",
    "\n",
    "First, use the `sum` function. You should be able to write this in one line."
   ]
  },
  {
   "cell_type": "code",
   "execution_count": 10,
   "metadata": {
    "scrolled": true
   },
   "outputs": [
    {
     "data": {
      "text/plain": [
       "500500"
      ]
     },
     "execution_count": 10,
     "metadata": {},
     "output_type": "execute_result"
    }
   ],
   "source": [
    "sum(range(1,1001))"
   ]
  },
  {
   "cell_type": "markdown",
   "metadata": {},
   "source": [
    "Second, use a `for` loop. Write your code as a function, so a user can call it using (for example) `s2(1000)`."
   ]
  },
  {
   "cell_type": "code",
   "execution_count": 11,
   "metadata": {},
   "outputs": [],
   "source": [
    "def s2(n):\n",
    "    sum = 0\n",
    "    for i in range(1,n+1):\n",
    "        sum = sum + i\n",
    "    return sum"
   ]
  },
  {
   "cell_type": "code",
   "execution_count": 12,
   "metadata": {},
   "outputs": [
    {
     "data": {
      "text/plain": [
       "500500"
      ]
     },
     "execution_count": 12,
     "metadata": {},
     "output_type": "execute_result"
    }
   ],
   "source": [
    "s2(1000)"
   ]
  },
  {
   "cell_type": "markdown",
   "metadata": {},
   "source": [
    "Third, use a `while` loop. Again, write a function (call it `s3`)."
   ]
  },
  {
   "cell_type": "code",
   "execution_count": 13,
   "metadata": {},
   "outputs": [],
   "source": [
    "def s3(n):\n",
    "    sum3 = 0\n",
    "    i =1\n",
    "    while i < 1001:\n",
    "        sum3 = sum3 + i\n",
    "        i = i + 1 \n",
    "    return sum3"
   ]
  },
  {
   "cell_type": "code",
   "execution_count": 14,
   "metadata": {},
   "outputs": [
    {
     "data": {
      "text/plain": [
       "500500"
      ]
     },
     "execution_count": 14,
     "metadata": {},
     "output_type": "execute_result"
    }
   ],
   "source": [
    "s3(1000)"
   ]
  },
  {
   "cell_type": "markdown",
   "metadata": {},
   "source": [
    "Use `%timeit` to see how long each of the three approaches takes. Which method is fastest? How much faster is it?"
   ]
  },
  {
   "cell_type": "code",
   "execution_count": 15,
   "metadata": {},
   "outputs": [
    {
     "name": "stdout",
     "output_type": "stream",
     "text": [
      "21.7 µs ± 558 ns per loop (mean ± std. dev. of 7 runs, 10000 loops each)\n"
     ]
    }
   ],
   "source": [
    "#First method\n",
    "%timeit  sum(range(1,1001))"
   ]
  },
  {
   "cell_type": "code",
   "execution_count": 16,
   "metadata": {},
   "outputs": [
    {
     "name": "stdout",
     "output_type": "stream",
     "text": [
      "63.8 µs ± 1.78 µs per loop (mean ± std. dev. of 7 runs, 10000 loops each)\n"
     ]
    }
   ],
   "source": [
    "#Second Method\n",
    "%timeit s2(1000)"
   ]
  },
  {
   "cell_type": "code",
   "execution_count": 17,
   "metadata": {},
   "outputs": [
    {
     "name": "stdout",
     "output_type": "stream",
     "text": [
      "91.3 µs ± 530 ns per loop (mean ± std. dev. of 7 runs, 10000 loops each)\n"
     ]
    }
   ],
   "source": [
    "#Third Method\n",
    "%timeit s3(1000)"
   ]
  },
  {
   "cell_type": "markdown",
   "metadata": {},
   "source": [
    "<b> Answer:</b> Using the first method using the built in function is the fastest "
   ]
  },
  {
   "cell_type": "markdown",
   "metadata": {},
   "source": [
    "## Question 2\n",
    "\n",
    "The function `F2` that we created in class isn’t quite correct because `F2(0)` returns `1` instead of `0`. Fix this.\n",
    "\n",
    "Also, alter the function so that if anything other than a positive integer is given as the input, the function prints an error message and returns `None`."
   ]
  },
  {
   "cell_type": "code",
   "execution_count": 42,
   "metadata": {},
   "outputs": [],
   "source": [
    "#Below is the fixed method\n",
    "def F2(n):\n",
    "    if n > -1:\n",
    "        a, b = 1, 1\n",
    "        if n == 0 :\n",
    "            return 0\n",
    "        elif n == 1:\n",
    "            return 1\n",
    "        else:\n",
    "            for i in range(n-1):\n",
    "                a, b = b, a+b\n",
    "            return a\n",
    "    else:\n",
    "        print(\"Number must be positive\")\n",
    "        return None\n"
   ]
  },
  {
   "cell_type": "code",
   "execution_count": 45,
   "metadata": {},
   "outputs": [
    {
     "name": "stdout",
     "output_type": "stream",
     "text": [
      "0\n",
      "1\n",
      "1\n",
      "2\n",
      "3\n",
      "5\n",
      "8\n",
      "13\n",
      "21\n",
      "34\n",
      "55\n"
     ]
    }
   ],
   "source": [
    "for i in range(11):\n",
    "    print(F2(i))"
   ]
  },
  {
   "cell_type": "code",
   "execution_count": 46,
   "metadata": {},
   "outputs": [
    {
     "name": "stdout",
     "output_type": "stream",
     "text": [
      "Number must be positive\n"
     ]
    }
   ],
   "source": [
    "F2(-10)"
   ]
  },
  {
   "cell_type": "markdown",
   "metadata": {},
   "source": [
    "## Question 3\n",
    "\n",
    "Write a function that returns a letter grade from a number using the following rules:\n",
    "\n",
    "Score (%) | Grade\n",
    ":--------:|:--:\n",
    ">90       | A\n",
    ">80       | B\n",
    ">70       | C\n",
    ">60       | D\n",
    "<=60      | F\n",
    "\n",
    "\n",
    "The function should take a score and an optional value for the denominator. (The default value of the denominator should be 100.) Some example calls:\n",
    "\n",
    "    In  []: grade(95)\n",
    "    Out []: A\n",
    "    \n",
    "    In  []: grade(40.5, denom=50)\n",
    "    Out []: B\n",
    "\n",
    "    In  []: grade('Janet')\n",
    "    Out []: Please enter a numeric Grade\n",
    "\n"
   ]
  },
  {
   "cell_type": "code",
   "execution_count": 2,
   "metadata": {},
   "outputs": [],
   "source": [
    "def grade(grade, denom = 100):\n",
    "    try:\n",
    "        grade = (grade/denom) * 100\n",
    "        if grade > 90:\n",
    "            return 'A'\n",
    "        elif grade >80:\n",
    "            return 'B'\n",
    "        elif grade >70 and grade <= 80:\n",
    "            return 'C'\n",
    "        elif grade >60 and grade <= 70:\n",
    "            return 'D'\n",
    "        elif grade <= 60:\n",
    "            return 'F'        \n",
    "    except:\n",
    "        return 'Please enter a numeric Grade'"
   ]
  },
  {
   "cell_type": "code",
   "execution_count": 63,
   "metadata": {},
   "outputs": [
    {
     "data": {
      "text/plain": [
       "'Please enter a numeric Grade'"
      ]
     },
     "execution_count": 63,
     "metadata": {},
     "output_type": "execute_result"
    }
   ],
   "source": [
    "grade('Janet')"
   ]
  },
  {
   "cell_type": "code",
   "execution_count": 64,
   "metadata": {},
   "outputs": [
    {
     "data": {
      "text/plain": [
       "'B'"
      ]
     },
     "execution_count": 64,
     "metadata": {},
     "output_type": "execute_result"
    }
   ],
   "source": [
    "grade(40.5, denom=50)"
   ]
  },
  {
   "cell_type": "code",
   "execution_count": 3,
   "metadata": {},
   "outputs": [
    {
     "data": {
      "text/plain": [
       "'B'"
      ]
     },
     "execution_count": 3,
     "metadata": {},
     "output_type": "execute_result"
    }
   ],
   "source": [
    "grade(90)"
   ]
  },
  {
   "cell_type": "code",
   "execution_count": 66,
   "metadata": {},
   "outputs": [
    {
     "data": {
      "text/plain": [
       "'F'"
      ]
     },
     "execution_count": 66,
     "metadata": {},
     "output_type": "execute_result"
    }
   ],
   "source": [
    "grade(40.5)"
   ]
  },
  {
   "cell_type": "code",
   "execution_count": 70,
   "metadata": {},
   "outputs": [
    {
     "data": {
      "text/plain": [
       "'D'"
      ]
     },
     "execution_count": 70,
     "metadata": {},
     "output_type": "execute_result"
    }
   ],
   "source": [
    "#I assumed that 90 is B, 80 is C, 70 is D while coding\n",
    "grade(70)"
   ]
  },
  {
   "cell_type": "markdown",
   "metadata": {},
   "source": [
    "## Question 4\n",
    "\n",
    "Create a virtual deck of cards by storing 52 string values in a list. There are 4 suits (hearts, diamonds, clubs, spades) and 13 cards Ace, 2, 3, ..., 10, J, Q, K. For example, one card might be AS (representing the Ace of Spades) or 10H (10 of Hearts).\n",
    "\n",
    "Hint: You will probably want to use two for loops to do this."
   ]
  },
  {
   "cell_type": "code",
   "execution_count": 83,
   "metadata": {},
   "outputs": [],
   "source": [
    "Virtual_Deck = []\n",
    "# Jack  = 'J'\n",
    "# Queen = 'Q'\n",
    "# King  = 'K'\n",
    "# Ace   = 'A'\n",
    "# hearts   = 'H'\n",
    "# diamonds = 'D'\n",
    "# clubs    = 'C'\n",
    "# spades   = 'S'\n",
    "\n",
    "Letter_cards = {1:'A',11:'J',12:'Q',0:'K'}\n",
    "suits = {0:'H',1:'D',2:'C',3:'S'}\n",
    "suit_id = 0\n",
    "for i in range(1,53):\n",
    "    j = i % 13 \n",
    "    Virtual_Deck.append(str(Letter_cards.get(j,j)) + suits.get(suit_id) )\n",
    "    if j == 0:\n",
    "        suit_id= suit_id + 1"
   ]
  },
  {
   "cell_type": "code",
   "execution_count": 84,
   "metadata": {},
   "outputs": [
    {
     "name": "stdout",
     "output_type": "stream",
     "text": [
      "['AH', '2H', '3H', '4H', '5H', '6H', '7H', '8H', '9H', '10H', 'JH', 'QH', 'KH', 'AD', '2D', '3D', '4D', '5D', '6D', '7D', '8D', '9D', '10D', 'JD', 'QD', 'KD', 'AC', '2C', '3C', '4C', '5C', '6C', '7C', '8C', '9C', '10C', 'JC', 'QC', 'KC', 'AS', '2S', '3S', '4S', '5S', '6S', '7S', '8S', '9S', '10S', 'JS', 'QS', 'KS']\n"
     ]
    }
   ],
   "source": [
    "print(Virtual_Deck)"
   ]
  },
  {
   "cell_type": "markdown",
   "metadata": {},
   "source": [
    "Deal one hand by shuffling your cards and taking five cards off the top (ie, the beginning) of the deck. Store these cards in a variable called \"hand\". Be sure to actually remove the cards from the deck!"
   ]
  },
  {
   "cell_type": "code",
   "execution_count": 86,
   "metadata": {},
   "outputs": [],
   "source": [
    "from random import shuffle\n",
    "shuffle(Virtual_Deck)"
   ]
  },
  {
   "cell_type": "code",
   "execution_count": 88,
   "metadata": {},
   "outputs": [
    {
     "name": "stdout",
     "output_type": "stream",
     "text": [
      "['KH', '2C', '6H', 'JD', '8S', 'JS', '5H', '6C', '3H', '8H', 'QS', '7C', '2D', '9S', 'JC', 'JH', 'AS', 'QC', 'AH', '2S', 'QD', '7H', '2H', '10S', '9C', '10C', '4D', 'AC', '10D', '9D', '7D', 'QH', '3D', '6D', '4H', '7S', 'AD', '4C', '10H', '8C', '9H', '3C', '4S', '3S', '5D', '6S', 'KD', '5S', '5C', '8D', 'KS', 'KC']\n"
     ]
    }
   ],
   "source": [
    "#shuffled Virtual Deck\n",
    "print(Virtual_Deck)"
   ]
  },
  {
   "cell_type": "code",
   "execution_count": 92,
   "metadata": {},
   "outputs": [],
   "source": [
    "#Draw top 5 cards\n",
    "hand = Virtual_Deck[0:5]\n",
    "remaining_deck = Virtual_Deck[5:]"
   ]
  },
  {
   "cell_type": "code",
   "execution_count": 91,
   "metadata": {},
   "outputs": [
    {
     "data": {
      "text/plain": [
       "['KH', '2C', '6H', 'JD', '8S']"
      ]
     },
     "execution_count": 91,
     "metadata": {},
     "output_type": "execute_result"
    }
   ],
   "source": [
    "hand"
   ]
  },
  {
   "cell_type": "code",
   "execution_count": 96,
   "metadata": {},
   "outputs": [
    {
     "data": {
      "text/plain": [
       "5"
      ]
     },
     "execution_count": 96,
     "metadata": {},
     "output_type": "execute_result"
    }
   ],
   "source": [
    "#No of cards in a hand\n",
    "len(hand)"
   ]
  },
  {
   "cell_type": "code",
   "execution_count": 94,
   "metadata": {},
   "outputs": [
    {
     "name": "stdout",
     "output_type": "stream",
     "text": [
      "['JS', '5H', '6C', '3H', '8H', 'QS', '7C', '2D', '9S', 'JC', 'JH', 'AS', 'QC', 'AH', '2S', 'QD', '7H', '2H', '10S', '9C', '10C', '4D', 'AC', '10D', '9D', '7D', 'QH', '3D', '6D', '4H', '7S', 'AD', '4C', '10H', '8C', '9H', '3C', '4S', '3S', '5D', '6S', 'KD', '5S', '5C', '8D', 'KS', 'KC']\n"
     ]
    }
   ],
   "source": [
    "print(remaining_deck)"
   ]
  },
  {
   "cell_type": "code",
   "execution_count": 97,
   "metadata": {},
   "outputs": [
    {
     "data": {
      "text/plain": [
       "47"
      ]
     },
     "execution_count": 97,
     "metadata": {},
     "output_type": "execute_result"
    }
   ],
   "source": [
    "#No of cards in the remaining deck\n",
    "len(remaining_deck)"
   ]
  }
 ],
 "metadata": {
  "kernelspec": {
   "display_name": "Python 3",
   "language": "python",
   "name": "python3"
  },
  "language_info": {
   "codemirror_mode": {
    "name": "ipython",
    "version": 3
   },
   "file_extension": ".py",
   "mimetype": "text/x-python",
   "name": "python",
   "nbconvert_exporter": "python",
   "pygments_lexer": "ipython3",
   "version": "3.7.0"
  }
 },
 "nbformat": 4,
 "nbformat_minor": 2
}
